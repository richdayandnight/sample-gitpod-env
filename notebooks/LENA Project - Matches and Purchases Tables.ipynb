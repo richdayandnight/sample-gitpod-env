{
 "cells": [
  {
   "cell_type": "code",
   "execution_count": 8,
   "metadata": {},
   "outputs": [],
   "source": [
    "# import necessary libraries\n",
    "import pandas as pd\n",
    "import numpy as np\n",
    "import random\n",
    "from datetime import datetime, timedelta\n",
    "\n",
    "def generate_and_export_purchases_tables():\n",
    "\n",
    "    \"\"\"\n",
    "    This function generates two tables and exports them as CSV files. The first table contains 10,000 purchase entries for 100 customers, with 5 unique products. The second table contains 100,000 marketing touch entries for 200 customers (including the 100 customers from the first table), with 5 unique marketing touch points.\n",
    "\n",
    "    The format of the purchase table is as follows:\n",
    "    - Customer: the name of the customer who made the purchase\n",
    "    - Purchase Date: the date on which the purchase was made\n",
    "    - Product: the name of the product purchased\n",
    "\n",
    "    The format of the marketing touch table is as follows:\n",
    "    - Customer: the name of the customer who received the marketing touch\n",
    "    - Marketing Date: the date on which the marketing touch was received\n",
    "    - Marketing Touch: the type of marketing touch received (Direct, Email, Organic, Referral, or Unknown)\n",
    "\n",
    "    Both tables are exported as CSV files named \"customer_purchases.csv\" and \"marketing_touches.csv\" respectively, in the same directory as the script.\n",
    "    The function will also return two dataframes for the purchase and marketing touch tables.\n",
    "\n",
    "    Usage:\n",
    "    - Run this function in a notebook such as Jupyter to generate the tables and CSV files.\n",
    "    \"\"\"\n",
    "\n",
    "    # generate 100 random customers\n",
    "    customers = [f\"Customer {i+1}\" for i in range(100)]\n",
    "\n",
    "    # generate 5 unique items that can be purchased\n",
    "    items = [\"Item A\", \"Item B\", \"Item C\", \"Item D\", \"Item E\"]\n",
    "\n",
    "    #randomize datetime covering 180 days from 1/1/2022 to 6/30/2022 for 10,000 purchases\n",
    "    purchase_dates = [datetime(2022, 1, 1) + timedelta(days=random.randint(0, 180)) for _ in range(10000)]\n",
    "\n",
    "    # create a dataframe of purchases with customer, purchase date, and product purchased - randomized customer and product.\n",
    "    purchases = pd.DataFrame({\n",
    "        \"Customer\": np.random.choice(customers, size=10000),\n",
    "        \"Purchase Date\": purchase_dates,\n",
    "        \"Product\": np.random.choice(items, size=10000)\n",
    "    })\n",
    "\n",
    "    # setup data for marketing touches\n",
    "\n",
    "    # generate random dates for marketing touches 180 days from 1/1/2022 to 6/30/2022 for 100,000 marketing touches\n",
    "    marketing_dates = [datetime(2022, 1, 1) + timedelta(days=random.randint(0, 180)) for _ in range(100000)]\n",
    "    # generate customer list with additional 100 customers for marketing touches\n",
    "    customers_marketing_touches = [f\"Customer {i+1}\" for i in range(200)]\n",
    "\n",
    "    # create a dataframe of marketing touches with customer, marketing date, and marketing touch - randomized customer and marketing touch.\n",
    "    marketing_touches = pd.DataFrame({\n",
    "        \"Customer\": np.random.choice(customers_marketing_touches, size=100000),\n",
    "        \"Marketing Date\": marketing_dates,\n",
    "        \"Marketing Touch\": np.random.choice([\"Direct\", \"Email\", \"Organic\", \"Referral\", \"Unknown\"], size=100000)\n",
    "    })\n",
    "\n",
    "    # export the tables as CSV files\n",
    "    purchases.to_csv(\"customer_purchases.csv\", index=False)\n",
    "    marketing_touches.to_csv(\"marketing_touches.csv\", index=False)\n",
    "    return purchases, marketing_touches\n"
   ]
  },
  {
   "cell_type": "code",
   "execution_count": 9,
   "metadata": {},
   "outputs": [],
   "source": [
    "import random\n",
    "import pandas as pd\n",
    "\n",
    "\n",
    "def generate_and_export_matches_tables():\n",
    "    \"\"\"\n",
    "    This function generates two tables and exports them as separate CSV files. The first table contains the names and IDs of 20 sports teams, while the second table contains the winner/loser IDs for 200 matches between the teams.\n",
    "\n",
    "    The format of the team table is as follows:\n",
    "    - ID: a unique integer identifier for each team, starting from 1\n",
    "    - Name: the name of the team, in the format \"Team <random string>\" e.g. Team Alpha\n",
    "\n",
    "    The format of the match table is as follows:\n",
    "    - Match ID: a unique integer identifier for each match, starting from 1\n",
    "    - Winner ID: the ID of the winning team\n",
    "    - Loser ID: the ID of the losing team\n",
    "\n",
    "    Each team plays against every other team at least once. The script randomly generates the team names and match results.\n",
    "\n",
    "    Both tables are exported as CSV files named \"teams.csv\" and \"matches.csv\", respectively, in the same directory as the script.\n",
    "\n",
    "    Usage:\n",
    "    - Run this function in a notebook such as Jupyter to generate the two tables and CSV files.\n",
    "    \"\"\"\n",
    "\n",
    "    # Define the number of teams and matches\n",
    "    num_teams = 20\n",
    "    num_matches = 200\n",
    "\n",
    "    # Define a list of random strings to use in team names\n",
    "    random_strings = ['Alpha', 'Bravo', 'Charlie', 'Delta', 'Echo', 'Foxtrot', 'Golf',\n",
    "                    'Hotel', 'India', 'Juliet', 'Kilo', 'Lima', 'Mike', 'November',\n",
    "                    'Oscar', 'Papa', 'Quebec', 'Romeo', 'Sierra', 'Tango', 'Uniform',\n",
    "                    'Victor', 'Whiskey', 'Xray', 'Yankee', 'Zulu']\n",
    "\n",
    "    # Create a list of unique team names using the random strings\n",
    "    team_names = []\n",
    "    while len(team_names) < num_teams:\n",
    "        name = f'Team {random.choice(random_strings)}'\n",
    "        if name not in team_names:\n",
    "            team_names.append(name)\n",
    "\n",
    "    # Create a DataFrame for the teams with incrementing integer IDs\n",
    "    team_ids = list(range(1, num_teams+1))\n",
    "    teams_df = pd.DataFrame({'team_id': team_ids, 'team_name': team_names})\n",
    "\n",
    "    # Create a list of all possible match combinations\n",
    "    match_combinations = []\n",
    "    for i in range(num_teams):\n",
    "        for j in range(i+1, num_teams):\n",
    "            match_combinations.append((i, j))\n",
    "\n",
    "    # Shuffle the match combinations and choose the first num_matches\n",
    "    random.shuffle(match_combinations)\n",
    "    match_combinations = match_combinations[:num_matches]\n",
    "\n",
    "    # Create a list of match results with winner and loser IDs\n",
    "    match_results = []\n",
    "    # generate winner and loser from match combinations\n",
    "    for match in match_combinations:\n",
    "        rng = random.randint(0, 1)\n",
    "        winner = team_ids[match[rng]]\n",
    "        loser = team_ids[match[1-rng]]\n",
    "        match_results.append((winner, loser))\n",
    "\n",
    "    # Create a DataFrame for the matches with winner and loser IDs\n",
    "    matches_df = pd.DataFrame(match_results, columns=['winner_id', 'loser_id'])\n",
    "\n",
    "\n",
    "    # Output the two tables to separate CSV files\n",
    "    teams_df.to_csv('teams.csv', index=False)\n",
    "    matches_df.to_csv('matches.csv', index=False)\n",
    "    return teams_df, matches_df\n"
   ]
  },
  {
   "cell_type": "code",
   "execution_count": 10,
   "metadata": {},
   "outputs": [],
   "source": [
    "# runs the functions above to export tables and return tables as dataframes\n",
    "\n",
    "teams_df, matches_df = generate_and_export_matches_tables()\n",
    "purchases_df, marketing_touches_df = generate_and_export_purchases_tables()"
   ]
  },
  {
   "attachments": {},
   "cell_type": "markdown",
   "metadata": {},
   "source": [
    "## Checklist\n",
    "\n",
    "Teams table\n",
    "- [✔️] 'teams' table should have the ff columns: team_id, team name\n",
    "- [✔️] 'teams' should have 20 unique teams\n",
    "- [✔️] 'team_id' is an incrementing integer starting from 1\n",
    "- [✔️] 'team_name' should follow the format \"Team <random string>\"\n",
    "\n",
    "Matches table\n",
    "- [✔️] 'matches' table should have the ff columns: winner_id, loser_id, (optional: match_id)\n",
    "- [❌] 'matches' should contain 200 matches\n",
    "- [✔️] each team must play against every other team at least once\n"
   ]
  },
  {
   "cell_type": "code",
   "execution_count": 11,
   "metadata": {},
   "outputs": [
    {
     "ename": "AssertionError",
     "evalue": "",
     "output_type": "error",
     "traceback": [
      "\u001b[0;31m---------------------------------------------------------------------------\u001b[0m",
      "\u001b[0;31mAssertionError\u001b[0m                            Traceback (most recent call last)",
      "Cell \u001b[0;32mIn[11], line 2\u001b[0m\n\u001b[1;32m      1\u001b[0m \u001b[39massert\u001b[39;00m teams_df\u001b[39m.\u001b[39mshape[\u001b[39m0\u001b[39m]  \u001b[39m==\u001b[39m \u001b[39m20\u001b[39m\n\u001b[0;32m----> 2\u001b[0m \u001b[39massert\u001b[39;00m matches_df\u001b[39m.\u001b[39mshape[\u001b[39m0\u001b[39m]  \u001b[39m==\u001b[39m \u001b[39m200\u001b[39m\n",
      "\u001b[0;31mAssertionError\u001b[0m: "
     ]
    }
   ],
   "source": [
    "assert teams_df.shape[0]  == 20\n",
    "assert matches_df.shape[0]  == 200"
   ]
  },
  {
   "attachments": {},
   "cell_type": "markdown",
   "metadata": {},
   "source": [
    "## Checklist\n",
    "\n",
    "Purchases table\n",
    "- [✔️] 'purchases' table should have the ff columns: customer_name, purchase_date, purchased_item\n",
    "- [✔️] 'purchases' should have 10000 rows\n",
    "- [✔️] 'purchases' should only have 100 unique customers\n",
    "- [✔️] 'purchases' transaction should only span 180 days (about 6 months)\n",
    "\n",
    "Marketing Touches table\n",
    "- [✔️] 'marketing_touches' table should have the ff columns: customer_name, marketing_date, marketing_touch\n",
    "- [✔️] 'marketing_touches' should contain 200 unique customers include the 100 from the first table \n",
    "- [✔️] 'marketing_touches' should only have the ff. marketing touch points types: “Direct”, “Email”, “Organic”, “Referral”, “Unknown”\n"
   ]
  },
  {
   "cell_type": "code",
   "execution_count": 12,
   "metadata": {},
   "outputs": [],
   "source": [
    "assert purchases_df.shape[0]  == 10000\n",
    "assert marketing_touches_df.shape[0]  == 100000\n",
    "\n",
    "# check len of  unique customers\n",
    "assert len(purchases_df.Customer.unique()) == 100"
   ]
  },
  {
   "cell_type": "code",
   "execution_count": 15,
   "metadata": {},
   "outputs": [],
   "source": [
    "# check if marketing touches includes the 100 customers in the customers table\n",
    "customer_merge_df = pd.merge(purchases_df, marketing_touches_df, on=['Customer','Customer'], how=\"outer\", indicator=True)\n",
    "customer_merge_df = customer_merge_df[customer_merge_df['_merge'] == 'both']\n",
    "assert len(customer_merge_df['Customer'].unique()) == 100"
   ]
  },
  {
   "cell_type": "code",
   "execution_count": 16,
   "metadata": {},
   "outputs": [],
   "source": [
    "assert len(marketing_touches_df.Customer.unique()) == 200"
   ]
  },
  {
   "cell_type": "code",
   "execution_count": 17,
   "metadata": {},
   "outputs": [
    {
     "data": {
      "text/plain": [
       "array(['Organic', 'Direct', 'Email', 'Referral', 'Unknown'], dtype=object)"
      ]
     },
     "execution_count": 17,
     "metadata": {},
     "output_type": "execute_result"
    }
   ],
   "source": [
    "marketing_touches_df['Marketing Touch'].unique()"
   ]
  },
  {
   "cell_type": "markdown",
   "metadata": {},
   "source": []
  }
 ],
 "metadata": {
  "kernelspec": {
   "display_name": ".venv",
   "language": "python",
   "name": "python3"
  },
  "language_info": {
   "codemirror_mode": {
    "name": "ipython",
    "version": 3
   },
   "file_extension": ".py",
   "mimetype": "text/x-python",
   "name": "python",
   "nbconvert_exporter": "python",
   "pygments_lexer": "ipython3",
   "version": "3.8.16"
  },
  "orig_nbformat": 4
 },
 "nbformat": 4,
 "nbformat_minor": 2
}
